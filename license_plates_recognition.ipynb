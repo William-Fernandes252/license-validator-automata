{
 "cells": [
  {
   "cell_type": "markdown",
   "metadata": {},
   "source": [
    "# Desenvolvimento de autômatos para validação de placas de veículos do Mercosul\n"
   ]
  },
  {
   "cell_type": "markdown",
   "metadata": {},
   "source": [
    "William Fernandes, Vitor Marques e Henrique Werneck\n"
   ]
  },
  {
   "cell_type": "markdown",
   "metadata": {},
   "source": [
    "---\n"
   ]
  },
  {
   "cell_type": "markdown",
   "metadata": {},
   "source": [
    "Neste projeto, foi desenvolvido um autômato finito que reconhece placas válidas de veículos registrados em países do Mercosul.\n",
    "\n",
    "A partir de 2020, placas de veículos registrados no Mercosul devem conter um conjunto alfanumérico com quatro letras e três números, seguindo o formato AAA#A##, (onde \"A\" representa uma letra de A a Z e \"#\" representa um dígito de 0 a 9). Antes da padronização das placas entre os países do bloco, o formato era AAA####. Foi implementado um autômato finito não-determinístico que reconhece tanto credenciais no formato novo quanto no formato antigo.\n"
   ]
  },
  {
   "cell_type": "code",
   "execution_count": 10,
   "metadata": {},
   "outputs": [
    {
     "name": "stdout",
     "output_type": "stream",
     "text": [
      "Requirement already satisfied: automathon in ./.venv/lib/python3.12/site-packages (0.0.13)\n",
      "Requirement already satisfied: hypothesis in ./.venv/lib/python3.12/site-packages (6.100.0)\n",
      "Requirement already satisfied: graphviz==0.16 in ./.venv/lib/python3.12/site-packages (from automathon) (0.16)\n",
      "Requirement already satisfied: attrs>=22.2.0 in ./.venv/lib/python3.12/site-packages (from hypothesis) (23.2.0)\n",
      "Requirement already satisfied: sortedcontainers<3.0.0,>=2.1.0 in ./.venv/lib/python3.12/site-packages (from hypothesis) (2.4.0)\n",
      "Note: you may need to restart the kernel to use updated packages.\n"
     ]
    }
   ],
   "source": [
    "# Instalar dependências\n",
    "%pip install automathon hypothesis"
   ]
  },
  {
   "cell_type": "code",
   "execution_count": 11,
   "metadata": {},
   "outputs": [],
   "source": [
    "from automathon import NFA\n",
    "import string\n",
    "\n",
    "\n",
    "def create_automata() -> NFA:\n",
    "    \"\"\"Cria um autômato finito não determinístico que aceita placas de carro no formato antigo e novo.\n",
    "\n",
    "    Returns:\n",
    "        NFA: O autômato finito não determinístico\n",
    "    \"\"\"\n",
    "\n",
    "    # Define o alfabeto do autômato, que é composto por todas as letras maiúsculas e dígitos\n",
    "    letters = set(char for char in string.ascii_uppercase)\n",
    "    digits = set(char for char in string.digits)\n",
    "    alphabet = letters.union(digits)\n",
    "\n",
    "    # Define as letras que não podem ser usadas como inicial da placa\n",
    "    invalid_initial_letters = {\"T\", \"U\", \"V\", \"W\", \"X\", \"Y\", \"Z\"}\n",
    "\n",
    "    # Define o estado inicial, os estados finais e a função de transição do autômato\n",
    "    initial_state = \"q0\"\n",
    "    final_states = {\n",
    "        \"qof\",\n",
    "        \"qnf\",\n",
    "    }  # qnf -> aceite para o formato novo, qof -> aceite para o formato antigo\n",
    "    delta = {\n",
    "        \"q0\": {\"\": {\"qo0\", \"qn0\"}},\n",
    "        \"qn0\": {\n",
    "            **{letter: {\"qn1\"} for letter in (letters - invalid_initial_letters)},\n",
    "        },\n",
    "        \"qn1\": {**{letter: {\"qn2\"} for letter in letters}},\n",
    "        \"qn2\": {**{letter: {\"qn3\"} for letter in letters}},\n",
    "        \"qn3\": {**{digit: {\"qn4\"} for digit in digits}},\n",
    "        \"qn4\": {**{letter: {\"qn5\"} for letter in letters}},\n",
    "        \"qn5\": {**{digit: {\"qn6\"} for digit in digits}},\n",
    "        \"qn6\": {**{digit: {\"qnf\"} for digit in digits}},\n",
    "        \"qo0\": {**{letter: {\"qo1\"} for letter in (letters - invalid_initial_letters)}},\n",
    "        \"qo1\": {**{letter: {\"qo2\"} for letter in letters}},\n",
    "        \"qo2\": {**{letter: {\"qo3\"} for letter in letters}},\n",
    "        \"qo3\": {**{digit: {\"qo4\"} for digit in digits}},\n",
    "        \"qo4\": {**{digit: {\"qo5\"} for digit in digits}},\n",
    "        \"qo5\": {**{digit: {\"qo6\"} for digit in digits}},\n",
    "        \"qo6\": {**{digit: {\"qof\"} for digit in digits}},\n",
    "    }\n",
    "\n",
    "    return NFA(\n",
    "        {\n",
    "            \"q0\",\n",
    "            \"qo0\",\n",
    "            \"qo1\",\n",
    "            \"qo2\",\n",
    "            \"qo3\",\n",
    "            \"qo4\",\n",
    "            \"qo5\",\n",
    "            \"qo6\",\n",
    "            \"qn0\",\n",
    "            \"qn1\",\n",
    "            \"qn2\",\n",
    "            \"qn3\",\n",
    "            \"qn4\",\n",
    "            \"qn5\",\n",
    "            \"qn6\",\n",
    "            \"qof\",\n",
    "            \"qnf\",\n",
    "        },\n",
    "        alphabet,\n",
    "        delta,\n",
    "        initial_state,\n",
    "        final_states,\n",
    "    ).minimize()"
   ]
  },
  {
   "cell_type": "code",
   "execution_count": 12,
   "metadata": {},
   "outputs": [],
   "source": [
    "# Testar se o autômato é valido\n",
    "automata = create_automata()\n",
    "assert automata.is_valid()\n",
    "\n",
    "# Visualizar o autômato\n",
    "automata.view(\"automata\")"
   ]
  },
  {
   "cell_type": "markdown",
   "metadata": {},
   "source": [
    "![automata](automata.gv.png)"
   ]
  },
  {
   "cell_type": "code",
   "execution_count": 13,
   "metadata": {},
   "outputs": [],
   "source": [
    "from hypothesis.strategies import from_regex, one_of, text\n",
    "\n",
    "# Definir estratégias de geração de placas\n",
    "old_format_license_plates = from_regex(\n",
    "    r\"^[A-S][A-Z]{2}\\d{4}$\",\n",
    "    fullmatch=True,\n",
    "    alphabet=string.ascii_uppercase + string.digits,\n",
    ")\n",
    "new_format_license_plates = from_regex(\n",
    "    r\"^[A-S][A-Z]{2}\\d[A-Z]\\d{2}$\",\n",
    "    fullmatch=True,\n",
    "    alphabet=string.ascii_uppercase + string.digits,\n",
    ")\n",
    "invalid_license_plates = one_of(\n",
    "    from_regex(r\"^[T-Z][A-Z]{2}\\d{4}$\"),\n",
    "    text(min_size=8 ,alphabet=[char for char in (string.ascii_uppercase + string.digits)]),\n",
    "    text(max_size=6, min_size=1 ,alphabet=[char for char in (string.ascii_uppercase + string.digits)]),\n",
    ")"
   ]
  },
  {
   "cell_type": "code",
   "execution_count": 14,
   "metadata": {},
   "outputs": [],
   "source": [
    "from hypothesis import given"
   ]
  },
  {
   "cell_type": "code",
   "execution_count": 15,
   "metadata": {},
   "outputs": [],
   "source": [
    "@given(old_format_license_plates)\n",
    "def test_accepts_old_format(word: str):\n",
    "    \"\"\"Testa se o autômato aceita placas de carro no formato antigo.\n",
    "\n",
    "    Args:\n",
    "        word (str): A cadeia de caracteres a ser testada\n",
    "    \"\"\"\n",
    "    automata = create_automata()\n",
    "    assert automata.accept(word)\n",
    "\n",
    "\n",
    "test_accepts_old_format()"
   ]
  },
  {
   "cell_type": "code",
   "execution_count": 16,
   "metadata": {},
   "outputs": [],
   "source": [
    "@given(new_format_license_plates)\n",
    "def test_accepts_new_format(word: str):\n",
    "    \"\"\"Testa se o autômato aceita placas de carro no formato novo.\n",
    "\n",
    "    Args:\n",
    "        word (str): A cadeia de caracteres a ser testada\n",
    "    \"\"\"\n",
    "    automata = create_automata()\n",
    "    assert automata.accept(word)\n",
    "\n",
    "\n",
    "test_accepts_new_format()"
   ]
  },
  {
   "cell_type": "code",
   "execution_count": 17,
   "metadata": {},
   "outputs": [],
   "source": [
    "@given(invalid_license_plates)\n",
    "def test_do_not_accepts_invalid_plates(word: str):\n",
    "    \"\"\"Testa se o autômato não aceita placas de carro inválidas.\n",
    "\n",
    "    Args:\n",
    "        word (str): A cadeia de caracteres a ser testada\n",
    "    \"\"\"\n",
    "    automata = create_automata()\n",
    "    assert not automata.accept(word)\n",
    "\n",
    "\n",
    "test_do_not_accepts_invalid_plates()"
   ]
  },
  {
   "cell_type": "code",
   "execution_count": null,
   "metadata": {},
   "outputs": [],
   "source": [
    "# Testar o autômato com placas digitadas pelo usuário\n",
    "while True:\n",
    "    option = input(\"Digite uma placa para testar o autômato (ou 'sair' para encerrar): \")\n",
    "    if option == \"sair\":\n",
    "        break\n",
    "    if automata.accept(option):\n",
    "        print(\"A placa é válida.\")\n",
    "    else:\n",
    "        print(\"A placa é inválida.\")"
   ]
  }
 ],
 "metadata": {
  "kernelspec": {
   "display_name": ".venv",
   "language": "python",
   "name": "python3"
  },
  "language_info": {
   "codemirror_mode": {
    "name": "ipython",
    "version": 3
   },
   "file_extension": ".py",
   "mimetype": "text/x-python",
   "name": "python",
   "nbconvert_exporter": "python",
   "pygments_lexer": "ipython3",
   "version": "3.12.2"
  }
 },
 "nbformat": 4,
 "nbformat_minor": 2
}
