{
 "cells": [
  {
   "cell_type": "markdown",
   "metadata": {},
   "source": [
    "# Desenvolvimento de autômatos para validação de placas de veículos do Mercosul\n"
   ]
  },
  {
   "cell_type": "markdown",
   "metadata": {},
   "source": [
    "William Fernandes, Vitor Marques e Henrique Werneck\n"
   ]
  },
  {
   "cell_type": "markdown",
   "metadata": {},
   "source": [
    "---\n"
   ]
  },
  {
   "cell_type": "markdown",
   "metadata": {},
   "source": [
    "Neste projeto, foi desenvolvido um autômato finito que reconhece placas válidas de veículos registrados em países do Mercosul.\n",
    "\n",
    "A partir de 2020, placas de veículos registrados no Mercosul devem conter um conjunto alfanumérico com quatro letras e três números, seguindo o formato AAA#A##, (onde \"A\" representa uma letra de A a Z e \"#\" representa um dígito de 0 a 9). Antes da padronização das placas entre os países do bloco, o formato era AAA####. Foi implementado um autômato finito não-determinístico que reconhece tanto credenciais no formato novo quanto no formato antigo.\n"
   ]
  },
  {
   "cell_type": "code",
   "execution_count": 1,
   "metadata": {},
   "outputs": [
    {
     "name": "stdout",
     "output_type": "stream",
     "text": [
      "Collecting automathon\n",
      "  Using cached automathon-0.0.13-py3-none-any.whl\n",
      "Collecting hypothesis\n",
      "  Using cached hypothesis-6.100.0-py3-none-any.whl.metadata (6.3 kB)\n",
      "Collecting graphviz==0.16 (from automathon)\n",
      "  Using cached graphviz-0.16-py2.py3-none-any.whl.metadata (7.1 kB)\n",
      "Requirement already satisfied: attrs>=22.2.0 in ./.venv/lib/python3.12/site-packages (from hypothesis) (23.2.0)\n",
      "Collecting sortedcontainers<3.0.0,>=2.1.0 (from hypothesis)\n",
      "  Using cached sortedcontainers-2.4.0-py2.py3-none-any.whl.metadata (10 kB)\n",
      "Using cached graphviz-0.16-py2.py3-none-any.whl (19 kB)\n",
      "Using cached hypothesis-6.100.0-py3-none-any.whl (458 kB)\n",
      "Using cached sortedcontainers-2.4.0-py2.py3-none-any.whl (29 kB)\n",
      "Installing collected packages: sortedcontainers, hypothesis, graphviz, automathon\n",
      "Successfully installed automathon-0.0.13 graphviz-0.16 hypothesis-6.100.0 sortedcontainers-2.4.0\n",
      "Note: you may need to restart the kernel to use updated packages.\n"
     ]
    }
   ],
   "source": [
    "# Instalar dependências\n",
    "%pip install automathon hypothesis"
   ]
  },
  {
   "cell_type": "code",
   "execution_count": 1,
   "metadata": {},
   "outputs": [],
   "source": [
    "from automathon import NFA\n",
    "import string\n",
    "\n",
    "\n",
    "def create_automata():\n",
    "    alphabet = set(char for char in (string.ascii_uppercase + string.digits))\n",
    "\n",
    "    letters = set(char for char in string.ascii_uppercase)\n",
    "    digits = set(char for char in string.digits)\n",
    "    invalid_initial_letters = {\"T\", \"U\", \"V\", \"W\", \"X\", \"Y\", \"Z\"}\n",
    "\n",
    "    initial_state = \"q0\"\n",
    "    final_states = {\n",
    "        \"qof\",\n",
    "        \"qnf\",\n",
    "    }  # qnf -> aceite para o formato novo, qof -> aceite para o formato antigo\n",
    "    delta = {\n",
    "        \"q0\": {\"\": {\"qo0\", \"qn0\"}},\n",
    "        \"qn0\": {\n",
    "            **{letter: {\"qn1\"} for letter in (letters - invalid_initial_letters)},\n",
    "        },\n",
    "        \"qn1\": {**{letter: {\"qn2\"} for letter in letters}},\n",
    "        \"qn2\": {**{letter: {\"qn3\"} for letter in letters}},\n",
    "        \"qn3\": {**{digit: {\"qn4\"} for digit in digits}},\n",
    "        \"qn4\": {**{letter: {\"qn5\"} for letter in letters}},\n",
    "        \"qn5\": {**{digit: {\"qn6\"} for digit in digits}},\n",
    "        \"qn6\": {**{digit: {\"qnf\"} for digit in digits}},\n",
    "        \"qo0\": {**{letter: {\"qo1\"} for letter in (letters - invalid_initial_letters)}},\n",
    "        \"qo1\": {**{letter: {\"qo2\"} for letter in letters}},\n",
    "        \"qo2\": {**{letter: {\"qo3\"} for letter in letters}},\n",
    "        \"qo3\": {**{digit: {\"qo4\"} for digit in digits}},\n",
    "        \"qo4\": {**{digit: {\"qo5\"} for digit in digits}},\n",
    "        \"qo5\": {**{digit: {\"qo6\"} for digit in digits}},\n",
    "        \"qo6\": {**{digit: {\"qof\"} for digit in digits}},\n",
    "    }\n",
    "\n",
    "    return NFA(\n",
    "        {\n",
    "            \"q0\",\n",
    "            \"qo0\",\n",
    "            \"qo1\",\n",
    "            \"qo2\",\n",
    "            \"qo3\",\n",
    "            \"qo4\",\n",
    "            \"qo5\",\n",
    "            \"qo6\",\n",
    "            \"qn0\",\n",
    "            \"qn1\",\n",
    "            \"qn2\",\n",
    "            \"qn3\",\n",
    "            \"qn4\",\n",
    "            \"qn5\",\n",
    "            \"qn6\",\n",
    "            \"qof\",\n",
    "            \"qnf\",\n",
    "        },\n",
    "        alphabet,\n",
    "        delta,\n",
    "        initial_state,\n",
    "        final_states,\n",
    "    ).minimize()"
   ]
  },
  {
   "cell_type": "code",
   "execution_count": 2,
   "metadata": {},
   "outputs": [],
   "source": [
    "# Testar se o autômato é valido\n",
    "automata = create_automata()\n",
    "assert automata.is_valid()\n",
    "\n",
    "# Visualizar o autômato\n",
    "automata.view(\"automata\")"
   ]
  },
  {
   "cell_type": "markdown",
   "metadata": {},
   "source": [
    "![automata](automata.gv.png)"
   ]
  },
  {
   "cell_type": "code",
   "execution_count": 4,
   "metadata": {},
   "outputs": [],
   "source": [
    "from hypothesis.strategies import from_regex, one_of, text\n",
    "\n",
    "# Definir estratégias de geração de placas\n",
    "old_format_license_plates = from_regex(\n",
    "    r\"^[A-S][A-Z]{2}\\d{4}$\",\n",
    "    fullmatch=True,\n",
    "    alphabet=string.ascii_uppercase + string.digits,\n",
    ")\n",
    "new_format_license_plates = from_regex(\n",
    "    r\"^[A-S][A-Z]{2}\\d[A-Z]\\d{2}$\",\n",
    "    fullmatch=True,\n",
    "    alphabet=string.ascii_uppercase + string.digits,\n",
    ")\n",
    "invalid_license_plates = one_of(\n",
    "    from_regex(r\"^[T-Z][A-Z]{2}\\d{4}$\"),\n",
    "    text(min_size=8 ,alphabet=[char for char in (string.ascii_uppercase + string.digits)]),\n",
    "    text(max_size=6, min_size=1 ,alphabet=[char for char in (string.ascii_uppercase + string.digits)]),\n",
    ")"
   ]
  },
  {
   "cell_type": "code",
   "execution_count": 5,
   "metadata": {},
   "outputs": [],
   "source": [
    "from hypothesis import given"
   ]
  },
  {
   "cell_type": "code",
   "execution_count": 6,
   "metadata": {},
   "outputs": [],
   "source": [
    "@given(old_format_license_plates)\n",
    "def test_accepts_old_format(word):\n",
    "    automata = create_automata()\n",
    "    assert automata.accept(word)\n",
    "\n",
    "\n",
    "test_accepts_old_format()"
   ]
  },
  {
   "cell_type": "code",
   "execution_count": 7,
   "metadata": {},
   "outputs": [],
   "source": [
    "@given(new_format_license_plates)\n",
    "def test_accepts_new_format(word):\n",
    "    automata = create_automata()\n",
    "    assert automata.accept(word)\n",
    "\n",
    "\n",
    "test_accepts_new_format()"
   ]
  },
  {
   "cell_type": "code",
   "execution_count": 8,
   "metadata": {},
   "outputs": [],
   "source": [
    "@given(invalid_license_plates)\n",
    "def test_do_not_accepts_invalid_plates(word):\n",
    "    automata = create_automata()\n",
    "    assert not automata.accept(word)\n",
    "\n",
    "\n",
    "test_do_not_accepts_invalid_plates()"
   ]
  }
 ],
 "metadata": {
  "kernelspec": {
   "display_name": ".venv",
   "language": "python",
   "name": "python3"
  },
  "language_info": {
   "codemirror_mode": {
    "name": "ipython",
    "version": 3
   },
   "file_extension": ".py",
   "mimetype": "text/x-python",
   "name": "python",
   "nbconvert_exporter": "python",
   "pygments_lexer": "ipython3",
   "version": "3.12.2"
  }
 },
 "nbformat": 4,
 "nbformat_minor": 2
}
